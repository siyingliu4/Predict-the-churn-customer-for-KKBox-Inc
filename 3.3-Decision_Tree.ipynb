{
 "cells": [
  {
   "cell_type": "markdown",
   "metadata": {},
   "source": [
    "## Decision Tree"
   ]
  },
  {
   "cell_type": "markdown",
   "metadata": {},
   "source": [
    "### Model 1 - RFE20"
   ]
  },
  {
   "cell_type": "code",
   "execution_count": 6,
   "metadata": {
    "collapsed": true
   },
   "outputs": [],
   "source": [
    "import pandas as pd \n",
    "\n",
    "df_train_data = pd.read_csv('final_train_data_StdSc.csv')\n",
    "df_test_data=pd.read_csv('final_test_data_StdSc.csv')"
   ]
  },
  {
   "cell_type": "code",
   "execution_count": 7,
   "metadata": {
    "collapsed": true
   },
   "outputs": [],
   "source": [
    "# RFE20\n",
    "target_train = df_train_data[['is_churn']]\n",
    "\n",
    "data_traintes = df_train_data[['registered_via_9','registered_via_4','registered_via_3','avg_actual_amount_paid','avg_plan_list_price','active_days','total_cancel','is_auto_renew','most_fq_payment_method_id','number_of_days_lastthree_listened','number_of_days_lasttwo_listened','num_totalsec_lasttwo_mean','num_100_lasttwo_mean','num_unq_lasttwo_sum','number_of_days_201701_listened','num_unq_201701_sum','number_of_days_201702_listened','num_totalsec_201702_mean','num_totalsec_201702_sum','number_of_days_listened',]]\n",
    "\n",
    "target_test = df_test_data[['is_churn']]\n",
    "\n",
    "data_test =df_test_data[['registered_via_9','registered_via_4','registered_via_3','avg_actual_amount_paid','avg_plan_list_price','active_days','total_cancel','is_auto_renew','most_fq_payment_method_id','number_of_days_lastthree_listened','number_of_days_lasttwo_listened','num_totalsec_lasttwo_mean','num_100_lasttwo_mean','num_unq_lasttwo_sum','number_of_days_201701_listened','num_unq_201701_sum','number_of_days_201702_listened','num_totalsec_201702_mean','num_totalsec_201702_sum','number_of_days_listened',]]\n"
   ]
  },
  {
   "cell_type": "code",
   "execution_count": 3,
   "metadata": {
    "collapsed": false
   },
   "outputs": [
    {
     "name": "stdout",
     "output_type": "stream",
     "text": [
      "{'criterion': 'entropy', 'max_depth': 10, 'max_leaf_nodes': None, 'min_samples_leaf': 10, 'min_samples_split': 10}\n"
     ]
    }
   ],
   "source": [
    "# GridSearch: tunning parameter\n",
    "from sklearn.tree import DecisionTreeClassifier\n",
    "from sklearn.model_selection import GridSearchCV\n",
    "\n",
    "# Set the parameters by cross-validation\n",
    "parameters = [{\"criterion\": [\"gini\", \"entropy\"],\n",
    "              \"min_samples_split\": [2, 10, 20],\n",
    "              \"max_depth\": [None, 5, 10, 15],\n",
    "              \"min_samples_leaf\": [1, 5, 10],\n",
    "              \"max_leaf_nodes\": [None, 5, 10, 20],\n",
    "              }]\n",
    "\n",
    "tree = GridSearchCV(DecisionTreeClassifier(), parameters, cv=5)\n",
    "tree.fit(data_train, target_train)\n",
    "\n",
    "print(tree.best_params_)"
   ]
  },
  {
   "cell_type": "code",
   "execution_count": 8,
   "metadata": {
    "collapsed": false
   },
   "outputs": [
    {
     "name": "stdout",
     "output_type": "stream",
     "text": [
      "Confusion Matrix:\n",
      "      Prediction\n",
      "         0     1\n",
      "    0220373 25177\n",
      "    1 1435 15858\n",
      "\n",
      "Accuracy Score:\n",
      "0.898753248137\n",
      "\n",
      "Classification Report:\n",
      "             precision    recall  f1-score   support\n",
      "\n",
      "          0       0.99      0.90      0.94    245550\n",
      "          1       0.39      0.92      0.54     17293\n",
      "\n",
      "avg / total       0.95      0.90      0.92    262843\n",
      "\n",
      "Log Loss:\n",
      "0.19883516365\n",
      "\n",
      "AUC Score:\n",
      "0.969856739738\n"
     ]
    }
   ],
   "source": [
    "# apply decision tree model\n",
    "from sklearn.tree import DecisionTreeClassifier\n",
    "decision_tree = DecisionTreeClassifier(criterion='entropy',min_impurity_decrease =0.00015,max_depth=15, max_leaf_nodes=None, min_samples_leaf=10, min_samples_split=10)\n",
    "decision_tree.fit(data_train, target_train)\n",
    "\n",
    "prediction = decision_tree.predict(data_test)\n",
    "\n",
    "# Performance evaluation\n",
    "\n",
    "from sklearn.metrics import confusion_matrix\n",
    "from sklearn.utils.multiclass import unique_labels\n",
    "from sklearn.metrics import confusion_matrix\n",
    "from sklearn.metrics import classification_report\n",
    "from sklearn.metrics import accuracy_score\n",
    "from sklearn.metrics import log_loss\n",
    "from sklearn.metrics import roc_auc_score\n",
    "\n",
    "def confusion_matrix_report(y_true, y_pred):\n",
    "    cm, labels = confusion_matrix(y_true, y_pred), unique_labels(y_true, y_pred)\n",
    "    column_width = max([len(str(x)) for x in labels] + [5])  # 5 is value length\n",
    "    report = \" \" * column_width + \" \" + \"{:_^{}}\".format(\"Prediction\", column_width * len(labels))+ \"\\n\"\n",
    "    report += \" \" * column_width + \" \".join([\"{:>{}}\".format(label, column_width) for label in labels]) + \"\\n\"\n",
    "    for i, label1 in enumerate(labels):\n",
    "        report += \"{:>{}}\".format(label1, column_width) + \" \".join([\"{:{}d}\".format(cm[i, j], column_width) for j in range(len(labels))]) + \"\\n\"\n",
    "    return report\n",
    "\n",
    "def loggloss(target_test, model, data_test):\n",
    "    probabilities=model.predict_proba(data_test)\n",
    "    value=log_loss(target_test, probabilities)\n",
    "    return value\n",
    "\n",
    "def AUC(target_test, model, data_test):\n",
    "    values=model.predict_proba(data_test)[:,1]\n",
    "    auc_score=roc_auc_score(target_test, values)\n",
    "    return auc_score\n",
    "    \n",
    "def analytics(target_test, model, data_test):#target of the test data #predictions as 0,1 #model (knnclassifier) #data_test\n",
    "    y_pred=model.predict(data_test)\n",
    "    print(\"Confusion Matrix:\")\n",
    "    print(confusion_matrix_report(target_test,prediction))\n",
    "    print(\"Accuracy Score:\")\n",
    "    print(accuracy_score(target_test,prediction))\n",
    "    print()\n",
    "    print(\"Classification Report:\")\n",
    "    print(classification_report(target_test,prediction))\n",
    "    print(\"Log Loss:\")\n",
    "    print(loggloss(target_test, model, data_test))\n",
    "    print()\n",
    "    print(\"AUC Score:\")\n",
    "    print(AUC(target_test, model, data_test))\n",
    "    \n",
    "analytics(target_test, decision_tree, data_test)\n"
   ]
  },
  {
   "cell_type": "markdown",
   "metadata": {},
   "source": [
    "### Model 2"
   ]
  },
  {
   "cell_type": "code",
   "execution_count": 10,
   "metadata": {
    "collapsed": false
   },
   "outputs": [
    {
     "name": "stdout",
     "output_type": "stream",
     "text": [
      "Confusion Matrix:\n",
      "      Prediction\n",
      "         0     1\n",
      "    0220019 25531\n",
      "    1 1464 15829\n",
      "\n",
      "Accuracy Score:\n",
      "0.897296104519\n",
      "\n",
      "Classification Report:\n",
      "             precision    recall  f1-score   support\n",
      "\n",
      "          0       0.99      0.90      0.94    245550\n",
      "          1       0.38      0.92      0.54     17293\n",
      "\n",
      "avg / total       0.95      0.90      0.92    262843\n",
      "\n",
      "Log Loss:\n",
      "0.202091551281\n",
      "\n",
      "AUC Score:\n",
      "0.968650367568\n"
     ]
    }
   ],
   "source": [
    "# F-classfication:20\n",
    "target_train = df_train_data[['is_churn']]\n",
    "\n",
    "data_train = df_train_data[['gender_2','registered_via_3','registered_via_4','registered_via_7','avg_actual_amount_paid','avg_plan_list_price','active_days','total_cancel','is_auto_renew','total_churn','number_of_days_lastthree_listened','number_of_days_lasttwo_listened','number_of_days_201702_listened','num_totalsec_201702_sum','num_unq_201702_sum','num_100_201702_sum','num_985_201702_sum','num_75_201702_sum','num_50_201702_sum','num_25_201702_sum',]]\n",
    "\n",
    "target_test = df_test_data[['is_churn']]\n",
    "\n",
    "data_test =df_test_data[['gender_2','registered_via_3','registered_via_4','registered_via_7','avg_actual_amount_paid','avg_plan_list_price','active_days','total_cancel','is_auto_renew','total_churn','number_of_days_lastthree_listened','number_of_days_lasttwo_listened','number_of_days_201702_listened','num_totalsec_201702_sum','num_unq_201702_sum','num_100_201702_sum','num_985_201702_sum','num_75_201702_sum','num_50_201702_sum','num_25_201702_sum',]]\n",
    "\n",
    "# apply decision tree model\n",
    "decision_tree = DecisionTreeClassifier(criterion='entropy',min_impurity_decrease =0.0002,max_depth=10, max_leaf_nodes=None, min_samples_leaf=10, min_samples_split=10)\n",
    "decision_tree\n",
    "decision_tree.fit(data_train, target_train)\n",
    "\n",
    "prediction = decision_tree.predict(data_test)\n",
    "\n",
    "\n",
    "# Performance evaluation\n",
    "\n",
    "analytics(target_test, decision_tree, data_test)\n"
   ]
  },
  {
   "cell_type": "markdown",
   "metadata": {},
   "source": [
    "### Model 3"
   ]
  },
  {
   "cell_type": "code",
   "execution_count": 11,
   "metadata": {
    "collapsed": false
   },
   "outputs": [
    {
     "name": "stdout",
     "output_type": "stream",
     "text": [
      "Confusion Matrix:\n",
      "      Prediction\n",
      "         0     1\n",
      "    0219970 25580\n",
      "    1 1436 15857\n",
      "\n",
      "Accuracy Score:\n",
      "0.897216208916\n",
      "\n",
      "Classification Report:\n",
      "             precision    recall  f1-score   support\n",
      "\n",
      "          0       0.99      0.90      0.94    245550\n",
      "          1       0.38      0.92      0.54     17293\n",
      "\n",
      "avg / total       0.95      0.90      0.92    262843\n",
      "\n",
      "Log Loss:\n",
      "0.203054885746\n",
      "\n",
      "AUC Score:\n",
      "0.969177671581\n"
     ]
    }
   ],
   "source": [
    "# Mutual Information20\n",
    "\n",
    "target_train = df_train_data[['is_churn']]\n",
    "\n",
    "data_train = df_train_data[['registered_via_7','avg_actual_amount_paid','avg_plan_list_price','active_days','total_cancel','is_auto_renew','total_churn','most_fq_payment_method_id','number_of_days_lasttwo_listened','number_of_days_201702_listened','num_unq_201702_mean','num_100_201702_mean','num_75_201702_mean','num_50_201702_mean','num_25_201702_mean','num_totalsec_201702_sum','num_unq_201702_sum','num_100_201702_sum','num_75_201702_sum','num_50_201702_sum',]]\n",
    "\n",
    "target_test = df_test_data[['is_churn']]\n",
    "\n",
    "data_test =df_test_data[['registered_via_7','avg_actual_amount_paid','avg_plan_list_price','active_days','total_cancel','is_auto_renew','total_churn','most_fq_payment_method_id','number_of_days_lasttwo_listened','number_of_days_201702_listened','num_unq_201702_mean','num_100_201702_mean','num_75_201702_mean','num_50_201702_mean','num_25_201702_mean','num_totalsec_201702_sum','num_unq_201702_sum','num_100_201702_sum','num_75_201702_sum','num_50_201702_sum',]]\n",
    "\n",
    "\n",
    "# apply decision tree model\n",
    "decision_tree = DecisionTreeClassifier(criterion='entropy',min_impurity_decrease =0.0002,max_depth=10, max_leaf_nodes=None, min_samples_leaf=10, min_samples_split=10)\n",
    "decision_tree\n",
    "decision_tree.fit(data_train, target_train)\n",
    "\n",
    "prediction = decision_tree.predict(data_test)\n",
    "\n",
    "analytics(target_test, decision_tree, data_test)\n"
   ]
  },
  {
   "cell_type": "markdown",
   "metadata": {},
   "source": [
    "### Model 4"
   ]
  },
  {
   "cell_type": "code",
   "execution_count": 12,
   "metadata": {
    "collapsed": false
   },
   "outputs": [
    {
     "name": "stdout",
     "output_type": "stream",
     "text": [
      "Confusion Matrix:\n",
      "      Prediction\n",
      "         0     1\n",
      "    0175590 69960\n",
      "    110460  6833\n",
      "\n",
      "Accuracy Score:\n",
      "0.694037885734\n",
      "\n",
      "Classification Report:\n",
      "             precision    recall  f1-score   support\n",
      "\n",
      "          0       0.94      0.72      0.81    245550\n",
      "          1       0.09      0.40      0.15     17293\n",
      "\n",
      "avg / total       0.89      0.69      0.77    262843\n",
      "\n",
      "Log Loss:\n",
      "0.622831925644\n",
      "\n",
      "AUC Score:\n",
      "0.587216265403\n"
     ]
    }
   ],
   "source": [
    "# PCA21\n",
    "target_train = df_train_data[['is_churn']]\n",
    "\n",
    "data_train = df_train_data[['num_75_lasttwo_mean','num_50_mean','num_100_201612_mean','num_100_201701_mean','num_above_50_sum','num_totalsec_sum','num_75_mean','num_totalsec_lastthree_sum','num_100_sum','num_100_lastthree_sum','num_50_lastthree_mean','num_75_lastthree_mean','num_totalsec_lasttwo_mean','num_totalsec_med','num_100_lasttwo_mean','num_100_med','num_totalsec_lastthree_mean','num_totalsec_mean','num_100_lastthree_mean','num_100_mean',]]\n",
    "\n",
    "target_test = df_test_data[['is_churn']]\n",
    "\n",
    "data_test =df_test_data[['num_75_lasttwo_mean','num_50_mean','num_100_201612_mean','num_100_201701_mean','num_above_50_sum','num_totalsec_sum','num_75_mean','num_totalsec_lastthree_sum','num_100_sum','num_100_lastthree_sum','num_50_lastthree_mean','num_75_lastthree_mean','num_totalsec_lasttwo_mean','num_totalsec_med','num_100_lasttwo_mean','num_100_med','num_totalsec_lastthree_mean','num_totalsec_mean','num_100_lastthree_mean','num_100_mean',]]\n",
    "\n",
    "\n",
    "decision_tree = DecisionTreeClassifier(criterion='entropy',min_impurity_decrease =0.0002,max_depth=10, max_leaf_nodes=None, min_samples_leaf=10, min_samples_split=10)\n",
    "decision_tree\n",
    "decision_tree.fit(data_train, target_train)\n",
    "\n",
    "prediction = decision_tree.predict(data_test)\n",
    "\n",
    "analytics(target_test, decision_tree, data_test)\n"
   ]
  },
  {
   "cell_type": "markdown",
   "metadata": {},
   "source": [
    "### Model 5 "
   ]
  },
  {
   "cell_type": "code",
   "execution_count": 13,
   "metadata": {
    "collapsed": false
   },
   "outputs": [
    {
     "name": "stdout",
     "output_type": "stream",
     "text": [
      "Confusion Matrix:\n",
      "      Prediction\n",
      "         0     1\n",
      "    0219942 25608\n",
      "    1 1388 15905\n",
      "\n",
      "Accuracy Score:\n",
      "0.897292299966\n",
      "\n",
      "Classification Report:\n",
      "             precision    recall  f1-score   support\n",
      "\n",
      "          0       0.99      0.90      0.94    245550\n",
      "          1       0.38      0.92      0.54     17293\n",
      "\n",
      "avg / total       0.95      0.90      0.92    262843\n",
      "\n",
      "Log Loss:\n",
      "0.203455069433\n",
      "\n",
      "AUC Score:\n",
      "0.968875625644\n"
     ]
    }
   ],
   "source": [
    "# Random Forest : 20\n",
    "target_train = df_train_data[['is_churn']]\n",
    "\n",
    "data_train = df_train_data[['num_50_201702_mean','num_25_201702_mean','num_unq_201702_sum','num_75_mean','proportion_songs_above_50','num_totalsec_max','num_25_201612_mean','num_unq_max','num_25_201702_sum','bd','num_25_max','number_of_days_listened','num_totalsec_min','most_fq_payment_method_id','avg_plan_list_price','number_of_days_201702_listened','total_cancel','avg_actual_amount_paid','is_auto_renew','active_days',]]\n",
    "\n",
    "target_test = df_test_data[['is_churn']]\n",
    "\n",
    "data_test =df_test_data[['num_50_201702_mean','num_25_201702_mean','num_unq_201702_sum','num_75_mean','proportion_songs_above_50','num_totalsec_max','num_25_201612_mean','num_unq_max','num_25_201702_sum','bd','num_25_max','number_of_days_listened','num_totalsec_min','most_fq_payment_method_id','avg_plan_list_price','number_of_days_201702_listened','total_cancel','avg_actual_amount_paid','is_auto_renew','active_days',]]\n",
    "\n",
    "\n",
    "decision_tree = DecisionTreeClassifier(criterion='entropy',min_impurity_decrease =0.0002,max_depth=10, max_leaf_nodes=None, min_samples_leaf=10, min_samples_split=20)\n",
    "decision_tree\n",
    "decision_tree.fit(data_train, target_train)\n",
    "\n",
    "prediction = decision_tree.predict(data_test)\n",
    "\n",
    "analytics(target_test, decision_tree, data_test)"
   ]
  },
  {
   "cell_type": "markdown",
   "metadata": {},
   "source": [
    "### Model 6"
   ]
  },
  {
   "cell_type": "code",
   "execution_count": 16,
   "metadata": {
    "collapsed": false
   },
   "outputs": [
    {
     "name": "stdout",
     "output_type": "stream",
     "text": [
      "Confusion Matrix:\n",
      "      Prediction\n",
      "         0     1\n",
      "    0219554 25996\n",
      "    1 1398 15895\n",
      "\n",
      "Accuracy Score:\n",
      "0.89577808806\n",
      "\n",
      "Classification Report:\n",
      "             precision    recall  f1-score   support\n",
      "\n",
      "          0       0.99      0.89      0.94    245550\n",
      "          1       0.38      0.92      0.54     17293\n",
      "\n",
      "avg / total       0.95      0.90      0.91    262843\n",
      "\n",
      "Log Loss:\n",
      "0.208819520793\n",
      "\n",
      "AUC Score:\n",
      "0.969742408334\n"
     ]
    }
   ],
   "source": [
    "# Correlation : 35\n",
    "target_train = df_train_data[['is_churn']]\n",
    "\n",
    "data_train = df_train_data[['num_100_201612_mean','num_25_201612_mean','num_unq_201701_sum','num_unq_201702_mean','num_75_201702_mean','num_985_201702_sum','num_totalsec_min','num_totalsec_max','num_unq_max','num_25_max','num_100_med','num_totalsec_sum','bd','registered_via_7','registered_via_4','registered_via_3','total_churn','num_totalsec_lasttwo_mean','num_50_201702_mean','num_25_201702_mean','num_100_201702_sum','num_50_201702_sum','num_25_201702_sum','number_of_days_listened','num_75_mean','most_fq_payment_method_id','avg_actual_amount_paid','active_days','total_cancel','is_auto_renew','number_of_days_201702_listened','num_75_lasttwo_mean','num_50_lastthree_mean','proportion_songs_above_50','registered_via_9',]]\n",
    "\n",
    "target_test = df_test_data[['is_churn']]\n",
    "\n",
    "data_test =df_test_data[['num_100_201612_mean','num_25_201612_mean','num_unq_201701_sum','num_unq_201702_mean','num_75_201702_mean','num_985_201702_sum','num_totalsec_min','num_totalsec_max','num_unq_max','num_25_max','num_100_med','num_totalsec_sum','bd','registered_via_7','registered_via_4','registered_via_3','total_churn','num_totalsec_lasttwo_mean','num_50_201702_mean','num_25_201702_mean','num_100_201702_sum','num_50_201702_sum','num_25_201702_sum','number_of_days_listened','num_75_mean','most_fq_payment_method_id','avg_actual_amount_paid','active_days','total_cancel','is_auto_renew','number_of_days_201702_listened','num_75_lasttwo_mean','num_50_lastthree_mean','proportion_songs_above_50','registered_via_9',]]\n",
    "\n",
    "\n",
    "decision_tree = DecisionTreeClassifier(criterion='entropy',min_impurity_decrease =0.0002,max_depth=10, max_leaf_nodes=None, min_samples_leaf=10, min_samples_split=10)\n",
    "decision_tree \n",
    "decision_tree.fit(data_train, target_train)\n",
    "\n",
    "prediction = decision_tree.predict(data_test)\n",
    "\n",
    "analytics(target_test, decision_tree, data_test)"
   ]
  },
  {
   "cell_type": "markdown",
   "metadata": {},
   "source": [
    "### Model 7"
   ]
  },
  {
   "cell_type": "code",
   "execution_count": 18,
   "metadata": {
    "collapsed": false
   },
   "outputs": [
    {
     "name": "stdout",
     "output_type": "stream",
     "text": [
      "Confusion Matrix:\n",
      "      Prediction\n",
      "         0     1\n",
      "    0219924 25626\n",
      "    1 1388 15905\n",
      "\n",
      "Accuracy Score:\n",
      "0.897223818021\n",
      "\n",
      "Classification Report:\n",
      "             precision    recall  f1-score   support\n",
      "\n",
      "          0       0.99      0.90      0.94    245550\n",
      "          1       0.38      0.92      0.54     17293\n",
      "\n",
      "avg / total       0.95      0.90      0.92    262843\n",
      "\n",
      "Log Loss:\n",
      "0.20746925407\n",
      "\n",
      "AUC Score:\n",
      "0.96982329671\n"
     ]
    }
   ],
   "source": [
    "# Random Forest_cor : 18\n",
    "\n",
    "target_train = df_train_data[['is_churn']]\n",
    "\n",
    "data_train = df_train_data[['num_50_201702_mean','num_25_201702_mean','num_75_mean','proportion_songs_above_50','num_totalsec_max','num_25_201612_mean','num_unq_max','num_25_201702_sum','bd','num_25_max','number_of_days_listened','num_totalsec_min','most_fq_payment_method_id','number_of_days_201702_listened','total_cancel','avg_actual_amount_paid','is_auto_renew','active_days',]]\n",
    "\n",
    "target_test = df_test_data[['is_churn']]\n",
    "\n",
    "data_test =df_test_data[['num_50_201702_mean','num_25_201702_mean','num_75_mean','proportion_songs_above_50','num_totalsec_max','num_25_201612_mean','num_unq_max','num_25_201702_sum','bd','num_25_max','number_of_days_listened','num_totalsec_min','most_fq_payment_method_id','number_of_days_201702_listened','total_cancel','avg_actual_amount_paid','is_auto_renew','active_days',]]\n",
    "\n",
    "\n",
    "decision_tree = DecisionTreeClassifier(criterion='entropy',min_impurity_decrease =0.0002,max_depth=10, max_leaf_nodes=None, min_samples_leaf=10, min_samples_split=10)\n",
    "decision_tree\n",
    "decision_tree.fit(data_train, target_train)\n",
    "\n",
    "prediction = decision_tree.predict(data_test)\n",
    "\n",
    "analytics(target_test, decision_tree, data_test)\n"
   ]
  },
  {
   "cell_type": "markdown",
   "metadata": {},
   "source": [
    "### Model 8"
   ]
  },
  {
   "cell_type": "code",
   "execution_count": 19,
   "metadata": {
    "collapsed": false
   },
   "outputs": [
    {
     "name": "stdout",
     "output_type": "stream",
     "text": [
      "Confusion Matrix:\n",
      "      Prediction\n",
      "         0     1\n",
      "    0220003 25547\n",
      "    1 1458 15835\n",
      "\n",
      "Accuracy Score:\n",
      "0.897258058993\n",
      "\n",
      "Classification Report:\n",
      "             precision    recall  f1-score   support\n",
      "\n",
      "          0       0.99      0.90      0.94    245550\n",
      "          1       0.38      0.92      0.54     17293\n",
      "\n",
      "avg / total       0.95      0.90      0.92    262843\n",
      "\n",
      "Log Loss:\n",
      "0.208377466049\n",
      "\n",
      "AUC Score:\n",
      "0.969849000758\n"
     ]
    }
   ],
   "source": [
    "# Mutual Information_cor : 14\n",
    "target_train = df_train_data[['is_churn']]\n",
    "\n",
    "data_train = df_train_data[['registered_via_7','avg_actual_amount_paid','active_days','total_cancel','is_auto_renew','total_churn','most_fq_payment_method_id','number_of_days_201702_listened','num_unq_201702_mean','num_75_201702_mean','num_50_201702_mean','num_25_201702_mean','num_100_201702_sum','num_50_201702_sum',]]\n",
    "\n",
    "target_test = df_test_data[['is_churn']]\n",
    "\n",
    "data_test =df_test_data[['registered_via_7','avg_actual_amount_paid','active_days','total_cancel','is_auto_renew','total_churn','most_fq_payment_method_id','number_of_days_201702_listened','num_unq_201702_mean','num_75_201702_mean','num_50_201702_mean','num_25_201702_mean','num_100_201702_sum','num_50_201702_sum',]]\n",
    "\n",
    "\n",
    "decision_tree = DecisionTreeClassifier(criterion='entropy',min_impurity_decrease =0.0002,max_depth=10, max_leaf_nodes=None, min_samples_leaf=10, min_samples_split=10)\n",
    "decision_tree\n",
    "decision_tree.fit(data_train, target_train)\n",
    "\n",
    "prediction = decision_tree.predict(data_test)\n",
    "\n",
    "analytics(target_test, decision_tree, data_test)\n"
   ]
  },
  {
   "cell_type": "markdown",
   "metadata": {},
   "source": [
    "### Model 9"
   ]
  },
  {
   "cell_type": "code",
   "execution_count": 20,
   "metadata": {
    "collapsed": false
   },
   "outputs": [
    {
     "name": "stdout",
     "output_type": "stream",
     "text": [
      "Confusion Matrix:\n",
      "      Prediction\n",
      "         0     1\n",
      "    0219982 25568\n",
      "    1 1441 15852\n",
      "\n",
      "Accuracy Score:\n",
      "0.897242840783\n",
      "\n",
      "Classification Report:\n",
      "             precision    recall  f1-score   support\n",
      "\n",
      "          0       0.99      0.90      0.94    245550\n",
      "          1       0.38      0.92      0.54     17293\n",
      "\n",
      "avg / total       0.95      0.90      0.92    262843\n",
      "\n",
      "Log Loss:\n",
      "0.207994797444\n",
      "\n",
      "AUC Score:\n",
      "0.969048124211\n"
     ]
    }
   ],
   "source": [
    "#F-Classification_cor : 14\n",
    "target_train = df_train_data[['is_churn']]\n",
    "\n",
    "data_train = df_train_data[['bd','registered_via_3','registered_via_4','registered_via_7','avg_actual_amount_paid','active_days','total_cancel','is_auto_renew','total_churn','number_of_days_201702_listened','num_100_201702_sum','num_985_201702_sum','num_50_201702_sum','num_25_201702_sum',]]\n",
    "\n",
    "target_test = df_test_data[['is_churn']]\n",
    "\n",
    "data_test =df_test_data[['bd','registered_via_3','registered_via_4','registered_via_7','avg_actual_amount_paid','active_days','total_cancel','is_auto_renew','total_churn','number_of_days_201702_listened','num_100_201702_sum','num_985_201702_sum','num_50_201702_sum','num_25_201702_sum',]]\n",
    "\n",
    "decision_tree = DecisionTreeClassifier(criterion='entropy',min_impurity_decrease =0.0002,max_depth=10, max_leaf_nodes=None, min_samples_leaf=10, min_samples_split=20)\n",
    "decision_tree\n",
    "decision_tree.fit(data_train, target_train)\n",
    "\n",
    "prediction = decision_tree.predict(data_test)\n",
    "\n",
    "analytics(target_test, decision_tree, data_test)"
   ]
  },
  {
   "cell_type": "markdown",
   "metadata": {},
   "source": [
    "### Model 10"
   ]
  },
  {
   "cell_type": "code",
   "execution_count": 21,
   "metadata": {
    "collapsed": false
   },
   "outputs": [
    {
     "name": "stdout",
     "output_type": "stream",
     "text": [
      "Confusion Matrix:\n",
      "      Prediction\n",
      "         0     1\n",
      "    0223201 22349\n",
      "    1 1570 15723\n",
      "\n",
      "Accuracy Score:\n",
      "0.908998908093\n",
      "\n",
      "Classification Report:\n",
      "             precision    recall  f1-score   support\n",
      "\n",
      "          0       0.99      0.91      0.95    245550\n",
      "          1       0.41      0.91      0.57     17293\n",
      "\n",
      "avg / total       0.95      0.91      0.92    262843\n",
      "\n",
      "Log Loss:\n",
      "0.213646010136\n",
      "\n",
      "AUC Score:\n",
      "0.968697165764\n"
     ]
    }
   ],
   "source": [
    "#RFE_cor : 12\n",
    "target_train = df_train_data[['is_churn']]\n",
    "\n",
    "data_train = df_train_data[['registered_via_9','registered_via_4','registered_via_3','avg_actual_amount_paid','active_days','total_cancel','is_auto_renew','most_fq_payment_method_id','num_totalsec_lasttwo_mean','num_unq_201701_sum','number_of_days_201702_listened','number_of_days_listened',]]\n",
    "\n",
    "target_test = df_test_data[['is_churn']]\n",
    "\n",
    "data_test =df_test_data[['registered_via_9','registered_via_4','registered_via_3','avg_actual_amount_paid','active_days','total_cancel','is_auto_renew','most_fq_payment_method_id','num_totalsec_lasttwo_mean','num_unq_201701_sum','number_of_days_201702_listened','number_of_days_listened',]]\n",
    "\n",
    "decision_tree = DecisionTreeClassifier(criterion='gini',min_impurity_decrease =0.00004,max_depth=15, max_leaf_nodes=None, min_samples_leaf=10, min_samples_split=20)\n",
    "decision_tree\n",
    "decision_tree.fit(data_train, target_train)\n",
    "\n",
    "prediction = decision_tree.predict(data_test)\n",
    "\n",
    "analytics(target_test, decision_tree, data_test)\n"
   ]
  }
 ],
 "metadata": {
  "kernelspec": {
   "display_name": "Python 3",
   "language": "python",
   "name": "python3"
  },
  "language_info": {
   "codemirror_mode": {
    "name": "ipython",
    "version": 3
   },
   "file_extension": ".py",
   "mimetype": "text/x-python",
   "name": "python",
   "nbconvert_exporter": "python",
   "pygments_lexer": "ipython3",
   "version": "3.6.5"
  }
 },
 "nbformat": 4,
 "nbformat_minor": 2
}
