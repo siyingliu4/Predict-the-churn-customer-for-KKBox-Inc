{
 "cells": [
  {
   "cell_type": "markdown",
   "metadata": {},
   "source": [
    "## SVM"
   ]
  },
  {
   "cell_type": "markdown",
   "metadata": {},
   "source": [
    "### Model 1"
   ]
  },
  {
   "cell_type": "code",
   "execution_count": 1,
   "metadata": {
    "collapsed": true
   },
   "outputs": [],
   "source": [
    "import pandas as pd\n",
    "\n",
    "df_train_data = pd.read_csv('final_train_data_StdSc.csv')\n",
    "df_test_data=pd.read_csv('final_test_data_StdSc.csv')"
   ]
  },
  {
   "cell_type": "code",
   "execution_count": 2,
   "metadata": {
    "collapsed": true
   },
   "outputs": [],
   "source": [
    "#RFE20 \n",
    "target_train = df_train_data[['is_churn']]\n",
    "\n",
    "data_train = df_train_data[['registered_via_9','registered_via_4','registered_via_3','avg_actual_amount_paid','avg_plan_list_price','active_days','total_cancel','is_auto_renew','most_fq_payment_method_id','number_of_days_lastthree_listened','number_of_days_lasttwo_listened','num_totalsec_lasttwo_mean','num_100_lasttwo_mean','num_unq_lasttwo_sum','number_of_days_201701_listened','num_unq_201701_sum','number_of_days_201702_listened','num_totalsec_201702_mean','num_totalsec_201702_sum','number_of_days_listened',]]\n",
    "\n",
    "target_test = df_test_data[['is_churn']]\n",
    "\n",
    "data_test =df_test_data[['registered_via_9','registered_via_4','registered_via_3','avg_actual_amount_paid','avg_plan_list_price','active_days','total_cancel','is_auto_renew','most_fq_payment_method_id','number_of_days_lastthree_listened','number_of_days_lasttwo_listened','num_totalsec_lasttwo_mean','num_100_lasttwo_mean','num_unq_lasttwo_sum','number_of_days_201701_listened','num_unq_201701_sum','number_of_days_201702_listened','num_totalsec_201702_mean','num_totalsec_201702_sum','number_of_days_listened',]]\n"
   ]
  },
  {
   "cell_type": "code",
   "execution_count": 3,
   "metadata": {},
   "outputs": [],
   "source": [
    "# GridSearch: tunning parameter\n",
    "from sklearn import svm\n",
    "from sklearn.model_selection import GridSearchCV\n",
    "\n",
    "Set the parameters by cross-validation\n",
    "parameters = [{'kernel': ['rbf'],\n",
    "              'gamma': [0.0001, 0.001, 0.01, 0.1, 0.2, 0.5],\n",
    "               'C': [1, 10, 100, 1000]},\n",
    "              {'kernel': ['linear'], 'C': [1, 10, 100, 1000]}]\n",
    "\n",
    "clf = GridSearchCV(svm.SVC(decision_function_shape='ovr'), parameters, cv=5)\n",
    "clf.fit(data_train, target_train)\n",
    "\n",
    "print(\"Best parameters set found on development set:\")\n",
    "print()\n",
    "print(clf.best_params_)\n",
    "\n",
    "#{'C': 1, 'gamma': 0.1, 'kernel': 'rbf'}"
   ]
  },
  {
   "cell_type": "code",
   "execution_count": 4,
   "metadata": {},
   "outputs": [
    {
     "name": "stdout",
     "output_type": "stream",
     "text": [
      "Confusion Matrix:\n",
      "      Prediction\n",
      "         0     1\n",
      "    0216585 28965\n",
      "    1  758 16535\n",
      "\n",
      "Accuracy Score:\n",
      "0.886917285223\n",
      "\n",
      "Classification Report:\n",
      "             precision    recall  f1-score   support\n",
      "\n",
      "          0       1.00      0.88      0.94    245550\n",
      "          1       0.36      0.96      0.53     17293\n",
      "\n",
      "avg / total       0.95      0.89      0.91    262843\n",
      "\n",
      "Log Loss:\n",
      "0.264385490735\n",
      "\n",
      "AUC Score:\n",
      "0.953051586499\n"
     ]
    }
   ],
   "source": [
    "# SVM model\n",
    "from sklearn import svm\n",
    "\n",
    "SVM = svm.SVC(kernel='rbf', C=1, gamma=0.1,probability=True)\n",
    "SVM.fit(data_train, target_train.values.ravel()) \n",
    "\n",
    "prediction = SVM.predict(data_test)\n",
    "\n",
    "# Performance evaluation\n",
    "\n",
    "from sklearn.metrics import confusion_matrix\n",
    "from sklearn.utils.multiclass import unique_labels\n",
    "from sklearn.metrics import confusion_matrix\n",
    "from sklearn.metrics import classification_report\n",
    "from sklearn.metrics import accuracy_score\n",
    "from sklearn.metrics import log_loss\n",
    "from sklearn.metrics import roc_auc_score\n",
    "\n",
    "def confusion_matrix_report(y_true, y_pred):\n",
    "    cm, labels = confusion_matrix(y_true, y_pred), unique_labels(y_true, y_pred)\n",
    "    column_width = max([len(str(x)) for x in labels] + [5])  # 5 is value length\n",
    "    report = \" \" * column_width + \" \" + \"{:_^{}}\".format(\"Prediction\", column_width * len(labels))+ \"\\n\"\n",
    "    report += \" \" * column_width + \" \".join([\"{:>{}}\".format(label, column_width) for label in labels]) + \"\\n\"\n",
    "    for i, label1 in enumerate(labels):\n",
    "        report += \"{:>{}}\".format(label1, column_width) + \" \".join([\"{:{}d}\".format(cm[i, j], column_width) for j in range(len(labels))]) + \"\\n\"\n",
    "    return report\n",
    "\n",
    "def loggloss(target_test, model, data_test):\n",
    "    probabilities=model.predict_proba(data_test)\n",
    "    value=log_loss(target_test, probabilities)\n",
    "    return value\n",
    "\n",
    "def AUC(target_test, model, data_test):\n",
    "    values=model.predict_proba(data_test)[:,1]\n",
    "    auc_score=roc_auc_score(target_test, values)\n",
    "    return auc_score\n",
    "    \n",
    "def analytics(target_test, model, data_test):#target of the test data #predictions as 0,1 #model (knnclassifier) #data_test\n",
    "    y_pred=model.predict(data_test)\n",
    "    print(\"Confusion Matrix:\")\n",
    "    print(confusion_matrix_report(target_test,prediction))\n",
    "    print(\"Accuracy Score:\")\n",
    "    print(accuracy_score(target_test,prediction))\n",
    "    print()\n",
    "    print(\"Classification Report:\")\n",
    "    print(classification_report(target_test,prediction))\n",
    "    print(\"Log Loss:\")\n",
    "    print(loggloss(target_test, model, data_test))\n",
    "    print()\n",
    "    print(\"AUC Score:\")\n",
    "    print(AUC(target_test, model, data_test))\n",
    "    \n",
    "analytics(target_test, SVM, data_test)\n",
    "\n",
    "\n"
   ]
  },
  {
   "cell_type": "markdown",
   "metadata": {},
   "source": [
    "### Model 2"
   ]
  },
  {
   "cell_type": "code",
   "execution_count": 5,
   "metadata": {},
   "outputs": [
    {
     "name": "stdout",
     "output_type": "stream",
     "text": [
      "Confusion Matrix:\n",
      "      Prediction\n",
      "         0     1\n",
      "    0217308 28242\n",
      "    1  825 16468\n",
      "\n",
      "Accuracy Score:\n",
      "0.889413071682\n",
      "\n",
      "Classification Report:\n",
      "             precision    recall  f1-score   support\n",
      "\n",
      "          0       1.00      0.88      0.94    245550\n",
      "          1       0.37      0.95      0.53     17293\n",
      "\n",
      "avg / total       0.95      0.89      0.91    262843\n",
      "\n",
      "Log Loss:\n",
      "0.26674611238\n",
      "\n",
      "AUC Score:\n",
      "0.9519200154\n"
     ]
    }
   ],
   "source": [
    "#F-Classification20\n",
    "target_train = df_train_data[['is_churn']]\n",
    "\n",
    "data_train = df_train_data[['gender_2','registered_via_3','registered_via_4','registered_via_7','avg_actual_amount_paid','avg_plan_list_price','active_days','total_cancel','is_auto_renew','total_churn','number_of_days_lastthree_listened','number_of_days_lasttwo_listened','number_of_days_201702_listened','num_totalsec_201702_sum','num_unq_201702_sum','num_100_201702_sum','num_985_201702_sum','num_75_201702_sum','num_50_201702_sum','num_25_201702_sum',]]\n",
    "\n",
    "target_test = df_test_data[['is_churn']]\n",
    "\n",
    "data_test =df_test_data[['gender_2','registered_via_3','registered_via_4','registered_via_7','avg_actual_amount_paid','avg_plan_list_price','active_days','total_cancel','is_auto_renew','total_churn','number_of_days_lastthree_listened','number_of_days_lasttwo_listened','number_of_days_201702_listened','num_totalsec_201702_sum','num_unq_201702_sum','num_100_201702_sum','num_985_201702_sum','num_75_201702_sum','num_50_201702_sum','num_25_201702_sum',]]\n",
    "\n",
    "SVM = svm.SVC(kernel='rbf', C=1, gamma=0.1,probability=True)\n",
    "SVM.fit(data_train, target_train.values.ravel()) # .ravel():Return the flattened underlying data as an ndarray\n",
    "\n",
    "prediction = SVM.predict(data_test)\n",
    "\n",
    "analytics(target_test, SVM, data_test)"
   ]
  },
  {
   "cell_type": "markdown",
   "metadata": {},
   "source": [
    "### Model 3"
   ]
  },
  {
   "cell_type": "code",
   "execution_count": 6,
   "metadata": {},
   "outputs": [
    {
     "name": "stdout",
     "output_type": "stream",
     "text": [
      "Confusion Matrix:\n",
      "      Prediction\n",
      "         0     1\n",
      "    0217263 28287\n",
      "    1  790 16503\n",
      "\n",
      "Accuracy Score:\n",
      "0.889375026156\n",
      "\n",
      "Classification Report:\n",
      "             precision    recall  f1-score   support\n",
      "\n",
      "          0       1.00      0.88      0.94    245550\n",
      "          1       0.37      0.95      0.53     17293\n",
      "\n",
      "avg / total       0.96      0.89      0.91    262843\n",
      "\n",
      "Log Loss:\n",
      "0.262947235456\n",
      "\n",
      "AUC Score:\n",
      "0.952689846538\n"
     ]
    }
   ],
   "source": [
    "# Mutual Information: 20\n",
    "target_train = df_train_data[['is_churn']]\n",
    "\n",
    "data_train = df_train_data[['registered_via_7','avg_actual_amount_paid','avg_plan_list_price','active_days','total_cancel','is_auto_renew','total_churn','most_fq_payment_method_id','number_of_days_lasttwo_listened','number_of_days_201702_listened','num_unq_201702_mean','num_100_201702_mean','num_75_201702_mean','num_50_201702_mean','num_25_201702_mean','num_totalsec_201702_sum','num_unq_201702_sum','num_100_201702_sum','num_75_201702_sum','num_50_201702_sum',]]\n",
    "\n",
    "target_test = df_test_data[['is_churn']]\n",
    "\n",
    "data_test =df_test_data[['registered_via_7','avg_actual_amount_paid','avg_plan_list_price','active_days','total_cancel','is_auto_renew','total_churn','most_fq_payment_method_id','number_of_days_lasttwo_listened','number_of_days_201702_listened','num_unq_201702_mean','num_100_201702_mean','num_75_201702_mean','num_50_201702_mean','num_25_201702_mean','num_totalsec_201702_sum','num_unq_201702_sum','num_100_201702_sum','num_75_201702_sum','num_50_201702_sum',]]\n",
    "\n",
    "SVM = svm.SVC(kernel='rbf', C=1, gamma=0.1,probability=True)\n",
    "SVM.fit(data_train, target_train.values.ravel()) # .ravel():Return the flattened underlying data as an ndarray\n",
    "\n",
    "prediction = SVM.predict(data_test)\n",
    "\n",
    "analytics(target_test, SVM, data_test)"
   ]
  },
  {
   "cell_type": "markdown",
   "metadata": {},
   "source": [
    "## Model 4"
   ]
  },
  {
   "cell_type": "code",
   "execution_count": 7,
   "metadata": {},
   "outputs": [
    {
     "name": "stdout",
     "output_type": "stream",
     "text": [
      "Confusion Matrix:\n",
      "      Prediction\n",
      "         0     1\n",
      "    0216782 28768\n",
      "    1  823 16470\n",
      "\n",
      "Accuracy Score:\n",
      "0.887419486157\n",
      "\n",
      "Classification Report:\n",
      "             precision    recall  f1-score   support\n",
      "\n",
      "          0       1.00      0.88      0.94    245550\n",
      "          1       0.36      0.95      0.53     17293\n",
      "\n",
      "avg / total       0.95      0.89      0.91    262843\n",
      "\n",
      "Log Loss:\n",
      "0.263384181357\n",
      "\n",
      "AUC Score:\n",
      "0.954088737193\n"
     ]
    }
   ],
   "source": [
    "# Random Foreast: 20\n",
    "target_train = df_train_data[['is_churn']]\n",
    "\n",
    "data_train = df_train_data[['num_50_201702_mean','num_25_201702_mean','num_unq_201702_sum','num_75_mean','proportion_songs_above_50','num_totalsec_max','num_25_201612_mean','num_unq_max','num_25_201702_sum','bd','num_25_max','number_of_days_listened','num_totalsec_min','most_fq_payment_method_id','avg_plan_list_price','number_of_days_201702_listened','total_cancel','avg_actual_amount_paid','is_auto_renew','active_days',]]\n",
    "\n",
    "target_test = df_test_data[['is_churn']]\n",
    "\n",
    "data_test =df_test_data[['num_50_201702_mean','num_25_201702_mean','num_unq_201702_sum','num_75_mean','proportion_songs_above_50','num_totalsec_max','num_25_201612_mean','num_unq_max','num_25_201702_sum','bd','num_25_max','number_of_days_listened','num_totalsec_min','most_fq_payment_method_id','avg_plan_list_price','number_of_days_201702_listened','total_cancel','avg_actual_amount_paid','is_auto_renew','active_days',]]\n",
    "\n",
    "SVM = svm.SVC(kernel='rbf', C=1, gamma=0.1,probability=True)\n",
    "SVM.fit(data_train, target_train.values.ravel()) # .ravel():Return the flattened underlying data as an ndarray\n",
    "\n",
    "prediction = SVM.predict(data_test)\n",
    "\n",
    "analytics(target_test, SVM, data_test)"
   ]
  }
 ],
 "metadata": {
  "kernelspec": {
   "display_name": "Python 3",
   "language": "python",
   "name": "python3"
  },
  "language_info": {
   "codemirror_mode": {
    "name": "ipython",
    "version": 3
   },
   "file_extension": ".py",
   "mimetype": "text/x-python",
   "name": "python",
   "nbconvert_exporter": "python",
   "pygments_lexer": "ipython3",
   "version": "3.6.3"
  }
 },
 "nbformat": 4,
 "nbformat_minor": 2
}
