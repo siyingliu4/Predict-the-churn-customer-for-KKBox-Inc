{
 "cells": [
  {
   "cell_type": "code",
   "execution_count": 1,
   "metadata": {},
   "outputs": [
    {
     "name": "stderr",
     "output_type": "stream",
     "text": [
      "/home/fdschmidt/anaconda3/lib/python3.6/site-packages/h5py/__init__.py:36: FutureWarning: Conversion of the second argument of issubdtype from `float` to `np.floating` is deprecated. In future, it will be treated as `np.float64 == np.dtype(float).type`.\n",
      "  from ._conv import register_converters as _register_converters\n",
      "Using TensorFlow backend.\n"
     ]
    }
   ],
   "source": [
    "from dataset import Dictionary, Documents\n",
    "from aggregators import aggregators\n",
    "import numpy as np\n",
    "import os\n",
    "from utils.loader import id2text_all, latimesPath, glasgowPath, id2query, topicsPath, triples, dataPath\n",
    "import torch"
   ]
  },
  {
   "cell_type": "code",
   "execution_count": 2,
   "metadata": {},
   "outputs": [],
   "source": [
    "# Regex pattern to look for files in the data folders\n",
    "pattern = r'(^la[0-9]+)|(^[0-9]+\\.sgml)'\n",
    "# Python list of paths to the data folders\n",
    "baseDirs = [latimesPath]\n",
    "# Retrieve all documents as a defaultdict\n",
    "documents = id2text_all(baseDirs, pattern)\n",
    "\n",
    "ft = Dictionary.from_embeddings() #fasttext atm default parameter"
   ]
  },
  {
   "cell_type": "code",
   "execution_count": 3,
   "metadata": {},
   "outputs": [],
   "source": [
    "# Instantiate Dictionary class with word2id and id2word from fasttext\n",
    "data = Documents(documents,dict_=ft) "
   ]
  },
  {
   "cell_type": "code",
   "execution_count": 5,
   "metadata": {},
   "outputs": [],
   "source": [
    "queryTag = \"EN-title\"\n",
    "fileList = [\"Top-en01.txt\", \"Top-en02.txt\", \"Top-en03.txt\"]\n",
    "\n",
    "topics = id2query(topicsPath, fileList, queryTag)"
   ]
  },
  {
   "cell_type": "code",
   "execution_count": 6,
   "metadata": {},
   "outputs": [],
   "source": [
    "pathRelBase = os.path.join(dataPath, \"RelAssess\")\n",
    "fileList = [\"qrels_bilingual\", \"qrels_EN\", \"qrels_EN\"]\n",
    "\n",
    "docTriples = triples(pathRelBase, fileList)"
   ]
  },
  {
   "cell_type": "code",
   "execution_count": 7,
   "metadata": {},
   "outputs": [],
   "source": [
    "data.add_queries(topics, docTriples)"
   ]
  }
 ],
 "metadata": {
  "kernelspec": {
   "display_name": "Python 3",
   "language": "python",
   "name": "python3"
  },
  "language_info": {
   "codemirror_mode": {
    "name": "ipython",
    "version": 3
   },
   "file_extension": ".py",
   "mimetype": "text/x-python",
   "name": "python",
   "nbconvert_exporter": "python",
   "pygments_lexer": "ipython3",
   "version": "3.6.4"
  }
 },
 "nbformat": 4,
 "nbformat_minor": 2
}
